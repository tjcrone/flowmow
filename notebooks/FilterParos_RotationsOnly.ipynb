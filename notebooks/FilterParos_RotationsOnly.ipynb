{
 "cells": [
  {
   "cell_type": "code",
   "execution_count": null,
   "metadata": {},
   "outputs": [],
   "source": [
    "# Libraries for plotting\n",
    "import matplotlib\n",
    "import matplotlib.pyplot as plt\n",
    "import numpy as np\n",
    "import scipy.signal as sgn"
   ]
  },
  {
   "cell_type": "code",
   "execution_count": null,
   "metadata": {},
   "outputs": [],
   "source": [
    "# load processed Nav data\n",
    "import pandas as pd\n",
    "nav = pd.read_hdf('../data/interim/nav_converted.h5', 'table')\n",
    "paros = pd.read_hdf('../data/interim/paros_converted.h5', 'table')\n",
    "sbe3 = pd.read_hdf('../data/interim/sbe3_converted.h5', 'table')\n",
    "\n",
    "nadv = pd.read_hdf('../data/interim/nortek_raw.h5', 'table')\n",
    "\n",
    "# get start time\n",
    "T0 = nav.head(1).epoch[0]"
   ]
  },
  {
   "cell_type": "code",
   "execution_count": null,
   "metadata": {},
   "outputs": [],
   "source": [
    "# calculate nav heading to yaw conversion\n",
    "\n",
    "pre_yaw = np.deg2rad(nav.heading.values)\n",
    "yaw = np.copy(pre_yaw)\n",
    "for i in range(len(pre_yaw)):\n",
    "    if pre_yaw[i] > np.pi:\n",
    "        # flip to negative angle\n",
    "        yaw[i] = pre_yaw[i] - 2*np.pi\n",
    "        \n",
    "nav['yaw'] = yaw"
   ]
  },
  {
   "cell_type": "code",
   "execution_count": null,
   "metadata": {},
   "outputs": [],
   "source": [
    "nav.head(1)"
   ]
  },
  {
   "cell_type": "markdown",
   "metadata": {},
   "source": [
    "## Nortek to Nav"
   ]
  },
  {
   "cell_type": "code",
   "execution_count": null,
   "metadata": {},
   "outputs": [],
   "source": [
    "nav['nadv_v0'] = np.interp(nav.epoch.values, nadv.epoch.values, nadv.v0.values)\n",
    "nav['nadv_v1'] = np.interp(nav.epoch.values, nadv.epoch.values, nadv.v1.values)\n",
    "nav['nadv_v2'] = np.interp(nav.epoch.values, nadv.epoch.values, nadv.v2.values)\n",
    "\n",
    "nadv.head(1).epoch -T0"
   ]
  },
  {
   "cell_type": "code",
   "execution_count": null,
   "metadata": {},
   "outputs": [],
   "source": [
    "# Filter Nortek data\n",
    "# ... conv with sync"
   ]
  },
  {
   "cell_type": "markdown",
   "metadata": {},
   "source": [
    "# Fit Paros to Nav"
   ]
  },
  {
   "cell_type": "code",
   "execution_count": null,
   "metadata": {},
   "outputs": [],
   "source": [
    "def first_order_comp(x, m, c):\n",
    "    return x*m + c"
   ]
  },
  {
   "cell_type": "code",
   "execution_count": null,
   "metadata": {},
   "outputs": [],
   "source": [
    "nav['pressure'] = np.interp(nav.epoch.values, paros.epoch.values, paros.pressure.values)\n",
    "nav_slice = sel_by_depth(nav, depthmin=-1550, depthmax=-1450).copy()\n",
    "params = np.polyfit(nav_slice.pressure.values, nav_slice.depth.values, 1)\n",
    "print('Fit Parameters: %0.10f %0.10f' % (params[0], params[1]))\n",
    "\n",
    "# add paros predicted depth\n",
    "nav['paros_depth'] = nav.pressure*params[0] + params[1]"
   ]
  },
  {
   "cell_type": "code",
   "execution_count": null,
   "metadata": {},
   "outputs": [],
   "source": [
    "# filter paros data\n",
    "# ... conv with sync"
   ]
  },
  {
   "cell_type": "markdown",
   "metadata": {},
   "source": [
    "### Calculate Velocities"
   ]
  },
  {
   "cell_type": "code",
   "execution_count": null,
   "metadata": {},
   "outputs": [],
   "source": [
    "# get delta time\n",
    "dt = np.diff(nav.epoch)\n",
    "nav[\"dt\"] = np.append(dt, 0.0)\n",
    "if len(nav.dt) != len(nav.epoch):\n",
    "    raise ValueError(\"dt length does not match epochs\")\n",
    "# average samping time\n",
    "print(\"mean dt=\", np.mean((nav[nav.dt < 1.0]).dt))"
   ]
  },
  {
   "cell_type": "code",
   "execution_count": null,
   "metadata": {},
   "outputs": [],
   "source": [
    "# Paros velocity\n",
    "paros_vertvel = np.divide(np.diff(nav.paros_depth), dt)\n",
    "nav['paros_vel'] = np.append(paros_vertvel, 0.0)"
   ]
  },
  {
   "cell_type": "markdown",
   "metadata": {},
   "source": [
    "## Convenience Functions"
   ]
  },
  {
   "cell_type": "code",
   "execution_count": null,
   "metadata": {},
   "outputs": [],
   "source": [
    "# Data selection functions\n",
    "\n",
    "#def area_select(df):\n",
    "#    return df.loc[(df.xrot >= xmin) & (df.xrot <= xmax) & (df.yrot >= ymin) & (df.yrot <= ymax)]\n",
    "\n",
    "def sel_by_depth(nav, depthmin=-5000, depthmax=-1000):\n",
    "  return nav[(nav.depth < depthmax) & (nav.depth > depthmin)]\n",
    "\n",
    "def sel_by_epoch(nav, T0, Tmin=-5000, Tmax=-1000):\n",
    "  return nav[(nav.epoch < (Tmax+T0)) & (nav.epoch > (Tmin+T0))]"
   ]
  },
  {
   "cell_type": "markdown",
   "metadata": {},
   "source": [
    "## Visualizing Dive 273 Data"
   ]
  },
  {
   "cell_type": "code",
   "execution_count": null,
   "metadata": {},
   "outputs": [],
   "source": [
    "# nav_slice_plot = sel_by_epoch(nav, T0, Tmin=2960, Tmax=5070) # start of dive 271\n",
    "nav_273 = sel_by_epoch(nav, T0, Tmin=170000, Tmax=220000) # start of dive 273\n",
    "\n",
    "fig, ax1 = plt.subplots(figsize=(12, 9), dpi=80)\n",
    "hd1, = ax1.plot(nav_273.epoch.values - T0, nav_273.paros_depth.values,'r', label='paros')\n",
    "hd2, = ax1.plot(nav_273.epoch.values - T0, nav_273.depth.values, label='nav')\n",
    "\n",
    "ax1.set(xlabel='time [s]', ylabel='depth [m]',\n",
    "       title='Depth on dive 273')\n",
    "ax1.grid()\n",
    "\n",
    "# fig.tight_layout()\n",
    "# plt.show()\n",
    "plt.legend(handles=[hd1, hd2])"
   ]
  },
  {
   "cell_type": "code",
   "execution_count": null,
   "metadata": {},
   "outputs": [],
   "source": [
    "fig, ax1 = plt.subplots(figsize=(12, 9), dpi=80)\n",
    "hd1, = ax1.plot(nav_273.x.values, nav_273.y.values,'r', label='nav')\n",
    "# hd2, = ax1.plot(nav_slice_plot.epoch.values - T0, nav_slice_plot.depth.values, label='nav')\n",
    "\n",
    "ax1.set(xlabel='X', ylabel='Y',\n",
    "       title='Position')\n",
    "ax1.grid()"
   ]
  },
  {
   "cell_type": "markdown",
   "metadata": {},
   "source": [
    "## Zooming in on one segment"
   ]
  },
  {
   "cell_type": "code",
   "execution_count": null,
   "metadata": {},
   "outputs": [],
   "source": [
    "# nav_slice_plot = sel_by_epoch(nav, T0, Tmin=2960, Tmax=5070) # start of dive 271\n",
    "nav_slice_plot = sel_by_epoch(nav, T0, Tmin=191200, Tmax=200000) #Tmax=198870) # start of dive 273\n",
    "\n",
    "fig, ax1 = plt.subplots(figsize=(12, 9), dpi=80)\n",
    "hd2, = ax1.plot(nav_slice_plot.epoch.values - T0, nav_slice_plot.paros_depth.values,'r', label='paros')\n",
    "hd1, = ax1.plot(nav_slice_plot.epoch.values - T0, nav_slice_plot.depth.values, label='nav')\n",
    "\n",
    "ax1.set(xlabel='time [s]', ylabel='depth [m]',\n",
    "       title='Zoomed dive 273, depth at first survey')\n",
    "ax1.grid()\n",
    "\n",
    "plt.legend(handles=[hd1, hd2])"
   ]
  },
  {
   "cell_type": "code",
   "execution_count": null,
   "metadata": {},
   "outputs": [],
   "source": [
    "fig, ax1 = plt.subplots(figsize=(12, 9), dpi=80)\n",
    "hd1, = ax1.plot(nav_slice_plot.x.values, nav_slice_plot.y.values,'r', label='nav')\n",
    "# hd2, = ax1.plot(nav_slice_plot.epoch.values - T0, nav_slice_plot.depth.values, label='nav')\n",
    "\n",
    "ax1.set(xlabel='X', ylabel='Y',\n",
    "       title='Position')\n",
    "ax1.grid()"
   ]
  },
  {
   "cell_type": "code",
   "execution_count": null,
   "metadata": {},
   "outputs": [],
   "source": [
    "fig, ax1 = plt.subplots(figsize=(12, 9), dpi=80)\n",
    "hd1, = ax1.plot(nav_slice_plot.epoch.values - T0, nav_slice_plot.pitch.values,'r', label='nav')\n",
    "\n",
    "ax1.set(xlabel='time', ylabel='pitch [rad]',\n",
    "       title='Discover pitch angle sign (nose up is positive / +Y->TOSTARBOARD) == NED-frame')\n",
    "ax1.grid()\n",
    "\n",
    "ax2 = ax1.twinx()\n",
    "# hd3, = ax2.plot(nav_slice_plot.epoch.values - T0, yaw, 'g', label='yaw')\n",
    "hd2, = ax2.plot(nav_slice_plot.epoch.values - T0, nav_slice_plot.depth.values, 'm',label='nav')\n",
    "ax2.set_ylabel('depth [m]', color='m')\n",
    "ax2.tick_params('y', colors='m')\n",
    "\n",
    "fig.tight_layout()"
   ]
  },
  {
   "cell_type": "code",
   "execution_count": null,
   "metadata": {},
   "outputs": [],
   "source": [
    "# see the heading angle (check convert to yaw)\n",
    "\n",
    "fig, ax1 = plt.subplots(figsize=(12, 9), dpi=80)\n",
    "hd1, = ax1.plot(nav_slice_plot.epoch.values-T0, nav_slice_plot.heading.values,'r', label='heading')\n",
    "\n",
    "ax1.set(xlabel='time [s]', ylabel='heading [deg, [0-360) ]',\n",
    "       title='Heading')\n",
    "ax1.grid()\n",
    "\n",
    "ax2 = ax1.twinx()\n",
    "hd2, = ax2.plot(nav_slice_plot.epoch.values - T0, nav_slice_plot.yaw, 'm', label='yaw')\n",
    "ax2.set_ylabel('yaw angle [rad, [-pi,pi) ]', color='m')\n",
    "ax2.tick_params('y', colors='m')\n",
    "\n",
    "fig.tight_layout()"
   ]
  },
  {
   "cell_type": "code",
   "execution_count": null,
   "metadata": {},
   "outputs": [],
   "source": [
    "# nav_slice_plot = sel_by_epoch(nav, T0, Tmin=172500, Tmax=173800) # start of dive 273\n",
    "\n",
    "fig, ax1 = plt.subplots(figsize=(12, 9), dpi=80)\n",
    "\n",
    "hd1, = ax1.plot(nav_slice_plot.epoch.values - T0, nav_slice_plot.nadv_v0,'r', label='v0')\n",
    "hd2, = ax1.plot(nav_slice_plot.epoch.values - T0, nav_slice_plot.nadv_v1,'g', label='v1')\n",
    "hd3, = ax1.plot(nav_slice_plot.epoch.values - T0, nav_slice_plot.nadv_v2,'b', label='v2')\n",
    "\n",
    "ax1.set(xlabel='time [s]', ylabel='vel',\n",
    "       title='Nortek')\n",
    "ax1.grid()\n",
    "plt.legend(handles=[hd1, hd2, hd3])"
   ]
  },
  {
   "cell_type": "code",
   "execution_count": null,
   "metadata": {},
   "outputs": [],
   "source": [
    "# nav_slice_plot = sel_by_epoch(nav, T0, Tmin=172500, Tmax=173800) # start of dive 273\n",
    "\n",
    "fig, ax1 = plt.subplots(figsize=(12, 9), dpi=80)\n",
    "\n",
    "hd1, = ax1.plot(nav_slice_plot.epoch.values - T0, nav_slice_plot.paros_vel,'r', label='v0')\n",
    "\n",
    "ax1.set(xlabel='time [s]', ylabel='vel',\n",
    "       title='Paros differenced velocity')\n",
    "ax1.grid()\n",
    "plt.legend(handles=[hd1, hd2, hd3])"
   ]
  },
  {
   "cell_type": "markdown",
   "metadata": {},
   "source": [
    "# Geometric Transformations Functions / Converters"
   ]
  },
  {
   "cell_type": "code",
   "execution_count": null,
   "metadata": {},
   "outputs": [],
   "source": [
    "def e2q(E):\n",
    "    q = np.array([0.0,0.0,0.0,0.0])\n",
    "    hroll = E[0]/2.0\n",
    "    hpitch = E[1]/2.0\n",
    "    hyaw = E[2]/2.0\n",
    "    sin_r2 = np.sin(hroll)\n",
    "    sin_p2 = np.sin(hpitch)\n",
    "    sin_y2 = np.sin(hyaw)\n",
    "    cos_r2 = np.cos(hroll)\n",
    "    cos_p2 = np.cos(hpitch)\n",
    "    cos_y2 = np.cos(hyaw)\n",
    "    q[0] = cos_r2 * cos_p2 * cos_y2 + sin_r2 * sin_p2 * sin_y2\n",
    "    q[1] = sin_r2 * cos_p2 * cos_y2 - cos_r2 * sin_p2 * sin_y2\n",
    "    q[2] = cos_r2 * sin_p2 * cos_y2 + sin_r2 * cos_p2 * sin_y2\n",
    "    q[3] = cos_r2 * cos_p2 * sin_y2 - sin_r2 * sin_p2 * cos_y2\n",
    "    q = q/np.linalg.norm(q)\n",
    "    if q[0]<0:\n",
    "        q = -q\n",
    "    return q\n",
    "\n",
    "#test\n",
    "E = np.array([0.0,0.0,0.0])\n",
    "if np.linalg.norm(np.array([1.0,0,0,0])-e2q(E)) > 1e-10:\n",
    "    raise ValueError(\"e2q not working\")\n",
    "\n",
    "def q2R(q):\n",
    "    # q = [scalar vector]\n",
    "    w = q[0]\n",
    "    x = q[1]\n",
    "    y = q[2]\n",
    "    z = q[3]\n",
    "\n",
    "    nrm = np.linalg.norm(q)\n",
    "    if (abs(nrm) < 0.9):\n",
    "        disp('QuaternionLib::q2C -- not a unit quaternion');\n",
    "        R = np.eye(3)\n",
    "        return R\n",
    "    nrm = 1./nrm\n",
    "    w = w*nrm\n",
    "    x = x*nrm\n",
    "    y = y*nrm\n",
    "    z = z*nrm\n",
    "    x2 = x*x\n",
    "    y2 = y*y\n",
    "    z2 = z*z\n",
    "    w2 = w*w\n",
    "    xy = 2*x*y\n",
    "    xz = 2*x*z\n",
    "    yz = 2*y*z\n",
    "    wx = 2*w*x\n",
    "    wy = 2*w*y\n",
    "    wz = 2*w*z\n",
    "    R = np.zeros((3,3))\n",
    "    R[0,0] = w2+x2-y2-z2 \n",
    "    R[0,1] = xy-wz\n",
    "    R[0,2] = xz+wy\n",
    "    R[1,0] = xy+wz\n",
    "    R[1,1] = w2-x2+y2-z2\n",
    "    R[1,2] = yz-wx\n",
    "    R[2,0] = xz-wy\n",
    "    R[2,1] = yz+wx\n",
    "    R[2,2] = w2-x2-y2+z2\n",
    "    return R\n",
    "\n",
    "# return quaternion equivalent to rotation matrix R\n",
    "# q is wxyz\n",
    "# from MIT libbot\n",
    "def q2e(q):\n",
    "    E = np.zeros(3)\n",
    "    roll_a = 2 * (q[0]*q[1] + q[2]*q[3]);\n",
    "    roll_b = 1 - 2*(q[1]*q[1] + q[2]*q[2]);\n",
    "    E[0] = np.arctan2(roll_a, roll_b);\n",
    "    pitch_sin = 2*(q[0]*q[2] - q[3]*q[1]);\n",
    "    E[1] = np.arcsin(pitch_sin);\n",
    "    yaw_a = 2*(q[0]*q[3] + q[1]*q[2]);\n",
    "    yaw_b = 1 - 2*(q[2]*q[2] + q[3]*q[3]);\n",
    "    E[2] = np.arctan2(yaw_a, yaw_b);\n",
    "    return E"
   ]
  },
  {
   "cell_type": "markdown",
   "metadata": {},
   "source": [
    "### Quick tests"
   ]
  },
  {
   "cell_type": "code",
   "execution_count": null,
   "metadata": {},
   "outputs": [],
   "source": [
    "E = np.array([0.0,0.0,0.0])\n",
    "q2R(e2q(E))"
   ]
  },
  {
   "cell_type": "code",
   "execution_count": null,
   "metadata": {},
   "outputs": [],
   "source": [
    "q = np.array([0.0,1.0,0.0,0.0])\n",
    "q2e(q)"
   ]
  },
  {
   "cell_type": "markdown",
   "metadata": {},
   "source": [
    "# Convert Sentry Nav Orientation data to Rotation Matrix"
   ]
  },
  {
   "cell_type": "code",
   "execution_count": null,
   "metadata": {},
   "outputs": [],
   "source": [
    "# caluclate rotation matrices (store as quaternion)\n",
    "qw = np.array([])\n",
    "qx = np.array([])\n",
    "qy = np.array([])\n",
    "qz = np.array([])\n",
    "Ei = np.array([0.0,0.0,0.0])\n",
    "\n",
    "for i in range(len(nav.epoch)):\n",
    "    Ei[0] = nav.roll.values[i]\n",
    "    Ei[1] = nav.pitch.values[i]\n",
    "    Ei[2] = nav.yaw.values[i]\n",
    "    \n",
    "    nQb = e2q(Ei)\n",
    "    np.append(qw, nQb[0])\n",
    "    np.append(qx, nQb[1])\n",
    "    np.append(qy, nQb[2])\n",
    "    np.append(qz, nQb[3])"
   ]
  },
  {
   "cell_type": "code",
   "execution_count": null,
   "metadata": {},
   "outputs": [],
   "source": [
    "# rotate all ADV velocities to local frame"
   ]
  },
  {
   "cell_type": "code",
   "execution_count": null,
   "metadata": {},
   "outputs": [],
   "source": [
    "nav.heading.values[0:10]"
   ]
  },
  {
   "cell_type": "code",
   "execution_count": null,
   "metadata": {},
   "outputs": [],
   "source": [
    "nav.yaw.values[0:10]"
   ]
  },
  {
   "cell_type": "code",
   "execution_count": null,
   "metadata": {},
   "outputs": [],
   "source": [
    "# this is a test\n",
    "\n",
    "M = np.array([1.0,2.0,3.0])\n",
    "np.append(M, 4.0)"
   ]
  },
  {
   "cell_type": "code",
   "execution_count": null,
   "metadata": {},
   "outputs": [],
   "source": [
    "qx = np.array([])\n",
    "print(qx)"
   ]
  },
  {
   "cell_type": "code",
   "execution_count": null,
   "metadata": {},
   "outputs": [],
   "source": []
  }
 ],
 "metadata": {
  "kernelspec": {
   "display_name": "Python 3",
   "language": "python",
   "name": "python3"
  },
  "language_info": {
   "codemirror_mode": {
    "name": "ipython",
    "version": 3
   },
   "file_extension": ".py",
   "mimetype": "text/x-python",
   "name": "python",
   "nbconvert_exporter": "python",
   "pygments_lexer": "ipython3",
   "version": "3.6.5"
  }
 },
 "nbformat": 4,
 "nbformat_minor": 2
}
